{
  "nbformat": 4,
  "nbformat_minor": 0,
  "metadata": {
    "colab": {
      "name": "TFY41xx Fysikk våren 2021.ipynb",
      "provenance": [],
      "collapsed_sections": []
    },
    "kernelspec": {
      "name": "python3",
      "display_name": "Python 3"
    }
  },
  "cells": [
    {
      "cell_type": "markdown",
      "metadata": {
        "id": "crY6YB7FlBIN"
      },
      "source": [
        "# TFY41xx Fysikk våren 2021.\n",
        "\n",
        "Programmet tar utgangspunkt i høyyden til de 8 festepunktene.\n",
        "Deretter beregnes baneformen $y(x)$ ved hjelp av 7 tredjegradspolynomer, \n",
        "et for hvert intervall mellom to festepunkter, slik at både banen $y$, \n",
        "dens stigningstall $y^\\prime = \\frac{dy}{dx}$ og dens andrederiverte\n",
        " $y^{\\prime \\prime} = \\frac{d^2y}{dx^2}$ er kontinuerlige i de 6 indre festepunktene.\n",
        " I tillegg velges null krumning (andrederivert) \n",
        " i banens to ytterste festepunkter (med `bc_type='natural'` nedenfor).\n",
        " Dette gir i alt 28 ligninger som fastlegger de 28 koeffisientene\n",
        " i de i alt 7 tredjegradspolynomene.\n",
        "\n",
        " De ulike banene er satt opp med tanke paa at kula skal \n",
        "\n",
        "*   Fullføre hele banen selv om den taper noe mekanisk energi underveis;\n",
        "*   Rulle rent, uten  gli (\"slure\").\n"
      ]
    },
    {
      "cell_type": "markdown",
      "metadata": {
        "id": "nFo0yc29mD6M"
      },
      "source": [
        "Vi importerer noedvendige biblioteker:"
      ]
    },
    {
      "cell_type": "code",
      "metadata": {
        "id": "AqFawUiVl6kA"
      },
      "source": [
        "import matplotlib.pyplot as plt\n",
        "import numpy as np\n",
        "from scipy.interpolate import CubicSpline"
      ],
      "execution_count": null,
      "outputs": []
    },
    {
      "cell_type": "markdown",
      "metadata": {
        "id": "KBcxwA4UmJ_y"
      },
      "source": [
        "Horisontal avstand mellom festepunktene er 0.200 m:"
      ]
    },
    {
      "cell_type": "code",
      "metadata": {
        "id": "ISFJJUpBmNfx"
      },
      "source": [
        "h = 0.200\n",
        "xfast=np.asarray([0,h,2*h,3*h,4*h,5*h,6*h,7*h])"
      ],
      "execution_count": null,
      "outputs": []
    },
    {
      "cell_type": "markdown",
      "metadata": {
        "id": "Te0qcrmFmWTh"
      },
      "source": [
        "Start, slutt og steglengde i x-rettning"
      ]
    },
    {
      "cell_type": "code",
      "metadata": {
        "id": "sgxwH4Ftmd8v"
      },
      "source": [
        "xmin = 0.000\n",
        "xmax = 1.401\n",
        "dx = 0.001"
      ],
      "execution_count": null,
      "outputs": []
    },
    {
      "cell_type": "markdown",
      "metadata": {
        "id": "kv2ct7SfmtGm"
      },
      "source": [
        "Skriv inn y-verdiene til banens 8 festepunkter i tabellen yfast, basert på avlesing i tracker. Et vilkårlig eksempel:"
      ]
    },
    {
      "cell_type": "code",
      "metadata": {
        "id": "fzM3YUPom3ko"
      },
      "source": [
        "yfast = np.asarray([0.350,0.315,0.299,0.306,0.281,0.236,0.168,0.200])"
      ],
      "execution_count": null,
      "outputs": []
    },
    {
      "cell_type": "markdown",
      "metadata": {
        "id": "VNQ7mHaznCQ5"
      },
      "source": [
        "Programmet beregner deretter de 7 tredjegradspolynomene, et for hvert intervall mellom to nabofestepunkter. Med scipy.interpolate-funksjonen CubicSpline:"
      ]
    },
    {
      "cell_type": "code",
      "metadata": {
        "id": "eU6gr2kJnVbg"
      },
      "source": [
        "cs = CubicSpline(xfast, yfast, bc_type='natural')\n"
      ],
      "execution_count": null,
      "outputs": []
    },
    {
      "cell_type": "markdown",
      "metadata": {
        "id": "1zXB7-Q51vD3"
      },
      "source": [
        "Funksjonen cs kan nå brukes til å regne ut $y(x)$, $y'(x)$ og $y''(x)$ for en vilkårlig horisontal posisjon x, eventuelt for mange horisontale posisjoner lagret i en tabell: <br>\n",
        "`cs(x)`   tilsvarer $y(x)$<br>\n",
        "`cs(x,1)` tilsvarer $y'(x)$<br>\n",
        "`cs(x,2)` tilsvarer $y''(x)$<br>\n",
        "\n",
        "<br>\n",
        "Her lager vi en tabell med x-verdier mellom 0 og 1.4 m"
      ]
    },
    {
      "cell_type": "code",
      "metadata": {
        "id": "r2oeceds1wLl"
      },
      "source": [
        "x = np.arange(xmin, xmax, dx) "
      ],
      "execution_count": null,
      "outputs": []
    },
    {
      "cell_type": "markdown",
      "metadata": {
        "id": "yQ4ePAbznZsV"
      },
      "source": [
        "Funksjonen arange returnerer verdier på det \"halvåpne\" intervallet\n",
        "`[xmin,xmax)`, dvs slik at xmin er med mens xmax ikke er med. Her blir\n",
        "dermed `x[0]=xmin=0.000`, `x[1]=xmin+1*dx=0.001`, ..., `x[1400]=xmax-dx=1.400`, \n",
        "dvs x blir en tabell med 1401 elementer"
      ]
    },
    {
      "cell_type": "code",
      "metadata": {
        "id": "ruU35FUmnnn9"
      },
      "source": [
        "Nx = len(x)\n",
        "y = cs(x)       #y=tabell med 1401 verdier for y(x)\n",
        "dy = cs(x,1)    #dy=tabell med 1401 verdier for y'(x)\n",
        "d2y = cs(x,2)   #d2y=tabell med 1401 verdier for y''(x)"
      ],
      "execution_count": null,
      "outputs": []
    },
    {
      "cell_type": "markdown",
      "metadata": {
        "id": "RGuzfOQpoeqM"
      },
      "source": [
        "Eksempel: Plotter banens form y(x):"
      ]
    },
    {
      "cell_type": "code",
      "metadata": {
        "colab": {
          "base_uri": "https://localhost:8080/",
          "height": 415
        },
        "id": "YwenKb4ok0iB",
        "outputId": "946804ce-3756-4d92-e4ab-5bc1cf179e1e"
      },
      "source": [
        "baneform = plt.figure('y(x)',figsize=(12,6))\n",
        "plt.plot(x,y,xfast,yfast,'*')\n",
        "plt.title('Banens form')\n",
        "plt.xlabel('$x$ (m)',fontsize=20)\n",
        "plt.ylabel('$y(x)$ (m)',fontsize=20)\n",
        "plt.ylim(0.10,0.40)\n",
        "plt.grid()\n",
        "plt.show()"
      ],
      "execution_count": null,
      "outputs": [
        {
          "output_type": "display_data",
          "data": {
            "image/png": "[encoded data removed]",
            "text/plain": [
              "<Figure size 864x432 with 1 Axes>"
            ]
          },
          "metadata": {
            "tags": [],
            "needs_background": "light"
          }
        }
      ]
    },
    {
      "cell_type": "markdown",
      "metadata": {
        "id": "DhHAPUzAoya3"
      },
      "source": [
        "Denne koden kan nå utvides til å regne ut flere interessante størelser:"
      ]
    },
    {
      "cell_type": "code",
      "metadata": {
        "id": "4BLO0pLQoXTj"
      },
      "source": [
        ""
      ],
      "execution_count": null,
      "outputs": []
    }
  ]
}